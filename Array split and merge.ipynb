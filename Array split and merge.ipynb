{
 "cells": [
  {
   "cell_type": "markdown",
   "metadata": {},
   "source": [
    "Some of the stuff in here is heavily inspired by [this tutorial](https://sebastianraschka.com/Articles/2014_multiprocessing.html). Cheers!"
   ]
  },
  {
   "cell_type": "code",
   "execution_count": 13,
   "metadata": {},
   "outputs": [],
   "source": [
    "import numpy as np\n",
    "import multiprocessing as mp"
   ]
  },
  {
   "cell_type": "markdown",
   "metadata": {},
   "source": [
    "Let's play with a very minimal example:"
   ]
  },
  {
   "cell_type": "code",
   "execution_count": 14,
   "metadata": {},
   "outputs": [
    {
     "data": {
      "text/plain": [
       "array([[1, 1, 1, 1, 1, 1],\n",
       "       [1, 1, 1, 1, 1, 1],\n",
       "       [1, 1, 1, 1, 1, 1],\n",
       "       [1, 1, 1, 1, 1, 1],\n",
       "       [1, 1, 1, 1, 1, 1]])"
      ]
     },
     "execution_count": 14,
     "metadata": {},
     "output_type": "execute_result"
    }
   ],
   "source": [
    "a = np.ones([5,6], dtype=int)\n",
    "a"
   ]
  },
  {
   "cell_type": "markdown",
   "metadata": {},
   "source": [
    "Here's our function from the [parallel processes notebook](Parallel%20processes.ipynb). However, here, we have added a second argument called *shift*, which allows us to \"shift\" a cell back to its correct column after splitting up an array for parallel processing. The *expansion* factor, allowing us to control how the cells are randomly distributed within the cell (or beyond), is also a parameter of the function now:\n",
    "\n",
    "⚡️**TODO**: remember to re-activate the randomization part!\n",
    "\n",
    "TODO: Also try out the np.empty/np.append approach from toPointsParallel, instead of using the insertrow (benchmark!)"
   ]
  },
  {
   "cell_type": "code",
   "execution_count": 15,
   "metadata": {},
   "outputs": [],
   "source": [
    "def toPoints(raster, shift=0):\n",
    "    numpoints = np.sum(raster)\n",
    "    # make an empty 2D \"target array\"\n",
    "    points = np.zeros((numpoints,2), dtype=int)\n",
    "\n",
    "    # keep track of where in the target array we have to insert\n",
    "    insertrow = 0\n",
    "\n",
    "    # iterate over the input raster\n",
    "    it = np.nditer(raster, flags=['multi_index'])\n",
    "    while not it.finished:\n",
    "        entry = np.array([np.array(it.multi_index)])\n",
    "        entry = entry + np.array([shift,0])  # apply the shift\n",
    "        block = np.repeat(entry, it[0], axis=0)\n",
    "        points[insertrow:insertrow+block.shape[0]] = block\n",
    "        insertrow = insertrow + block.shape[0]\n",
    "        it.iternext()\n",
    "\n",
    "    return points"
   ]
  },
  {
   "cell_type": "markdown",
   "metadata": {},
   "source": [
    "Let's define a function that splits up the input array based on the number of CPUs, runs the toPoints function in parallel on each part individually, and puts the processed parts back together:"
   ]
  },
  {
   "cell_type": "code",
   "execution_count": 16,
   "metadata": {},
   "outputs": [],
   "source": [
    "def toPointsParallel(raster):\n",
    "    # how many CPUs do we have?\n",
    "    cpus = mp.cpu_count()\n",
    "    cpus = 2\n",
    "    \n",
    "    # How many columns does the raster have?\n",
    "    numcols = raster.shape[0]\n",
    "    \n",
    "    # If we have more CPUs than the raster is wide, just treat each column of the \n",
    "    # raster separately (the remaining CPUs will not be used then)\n",
    "    if cpus > numcols:\n",
    "        cpus = numcols\n",
    "        \n",
    "    numpoints = np.sum(raster)\n",
    "    # make an empty 2D \"target array\"\n",
    "    points = np.empty((0,2), dtype=int)\n",
    "    \n",
    "    # determine how to split up the array\n",
    "    splitpoints = np.linspace(start = 1, stop = numcols, num = cpus-1, endpoint = False).astype(int)\n",
    "   \n",
    "    # we need to add a 0 add the bedinning of the list of shift values, \n",
    "    # because the first array won't get shifted\n",
    "    shifters = np.append(np.array([0]),splitpoints)\n",
    "    \n",
    "    # Get ready for multiprocessing...\n",
    "    pool = mp.Pool(processes=cpus)\n",
    "    results = [pool.apply(toPoints, args=(subarray, shift)) for shift, subarray in zip(shifters, np.array_split(raster,splitpoints))]\n",
    "    \n",
    "    for r in results:\n",
    "        points = np.append(points, r, axis=0)\n",
    "        \n",
    "    pool.close()\n",
    "            \n",
    "    return points"
   ]
  },
  {
   "cell_type": "markdown",
   "metadata": {},
   "source": [
    "The same function, but just looping through the parts sequentially (effectively using just one CPU):"
   ]
  },
  {
   "cell_type": "code",
   "execution_count": 17,
   "metadata": {},
   "outputs": [],
   "source": [
    "def toPointsSequential(raster):\n",
    "    # how many CPUs do we have?\n",
    "    cpus = mp.cpu_count()\n",
    "    \n",
    "    # How many columns does the raster have?\n",
    "    numcols = raster.shape[0]\n",
    "    \n",
    "    # If we have more CPUs than the raster is wide, just treat each column of the \n",
    "    # raster separately (the remaining CPUs will not be used then)\n",
    "    if cpus > numcols:\n",
    "        cpus = numcols\n",
    "        \n",
    "    numpoints = np.sum(raster)\n",
    "    # make an empty 2D \"target array\"\n",
    "    points = np.empty((0,2), dtype=int)\n",
    "    \n",
    "    # determine how to split up the array\n",
    "    splitpoints = np.linspace(start = 1, stop = numcols, num = cpus-1, endpoint = False).astype(int)\n",
    "   \n",
    "    # we need to add a 0 add the bedinning of the list of shift values, \n",
    "    # because the first array won't get shifted\n",
    "    shifters = np.append(np.array([0]),splitpoints)\n",
    "    \n",
    "    for shift, subarray in zip(shifters, np.array_split(raster,splitpoints)):\n",
    "        points = np.append(points, toPoints(subarray, shift), axis=0)\n",
    "    \n",
    "    return points"
   ]
  },
  {
   "cell_type": "markdown",
   "metadata": {},
   "source": [
    "The output for a given array should be the same, whether we are using the simple \"toPoints\" function, the sequential one, or the parallel one:"
   ]
  },
  {
   "cell_type": "code",
   "execution_count": 22,
   "metadata": {},
   "outputs": [
    {
     "name": "stdout",
     "output_type": "stream",
     "text": [
      "[[ 98 201  39 ... 263  44 346]\n",
      " [246  23 414 ... 469 399  21]\n",
      " [102 478 326 ...  25  29 241]\n",
      " ...\n",
      " [322 363 175 ... 497  84 365]\n",
      " [373 340 453 ...   2 349 280]\n",
      " [222 496  24 ... 263 423 280]]\n",
      "True\n",
      "True\n",
      "True\n"
     ]
    }
   ],
   "source": [
    "# create a 40x50 array of random values between 0 and 500:\n",
    "test = np.random.rand(40,50)\n",
    "test = (test * 500).astype(int)\n",
    "print(test)\n",
    "\n",
    "print(np.array_equal(toPoints(test), toPointsParallel(test)))\n",
    "print(np.array_equal(toPoints(test), toPointsSequential(test)))\n",
    "print(np.array_equal(toPointsParallel(test), toPointsSequential(test)))"
   ]
  },
  {
   "cell_type": "markdown",
   "metadata": {},
   "source": [
    "Looks good! Let's do some benchmarking:"
   ]
  },
  {
   "cell_type": "code",
   "execution_count": null,
   "metadata": {},
   "outputs": [
    {
     "name": "stdout",
     "output_type": "stream",
     "text": [
      "10\n",
      "block...\n",
      "656 µs ± 1.89 µs per loop (mean ± std. dev. of 7 runs, 1000 loops each)\n",
      "sequential...\n",
      "913 µs ± 4.02 µs per loop (mean ± std. dev. of 7 runs, 1000 loops each)\n",
      "parallel...\n",
      "13.9 ms ± 22.1 µs per loop (mean ± std. dev. of 7 runs, 100 loops each)\n",
      "100\n",
      "block...\n",
      "82 ms ± 2.79 ms per loop (mean ± std. dev. of 7 runs, 10 loops each)\n",
      "sequential...\n",
      "150 ms ± 896 µs per loop (mean ± std. dev. of 7 runs, 1 loop each)\n",
      "parallel...\n",
      "300 ms ± 18.1 ms per loop (mean ± std. dev. of 7 runs, 1 loop each)\n",
      "500\n",
      "block...\n",
      "2.31 s ± 3.44 ms per loop (mean ± std. dev. of 7 runs, 1 loop each)\n",
      "sequential...\n",
      "4.26 s ± 31 ms per loop (mean ± std. dev. of 7 runs, 1 loop each)\n",
      "parallel...\n",
      "8.19 s ± 567 ms per loop (mean ± std. dev. of 7 runs, 1 loop each)\n",
      "750\n",
      "block...\n"
     ]
    }
   ],
   "source": [
    "array_sizes = [10, 100, 500, 750, 1000]\n",
    "block_time = []\n",
    "seq_time = []\n",
    "parallel_time = []\n",
    "\n",
    "for i in array_sizes:\n",
    "    print(i)\n",
    "    # make a random array for the given size (e.g. 10x10)\n",
    "    test = np.random.rand(i,i)\n",
    "    test = (test * 500).astype(int)\n",
    "    print(\"block...\")    \n",
    "    t = %timeit -o toPoints(test)\n",
    "    block_time.append(t)\n",
    "    print(\"sequential...\")    \n",
    "    t = %timeit -o toPointsSequential(test)\n",
    "    seq_time.append(t)\n",
    "    print(\"parallel...\")    \n",
    "    t = %timeit -o toPointsParallel(test)\n",
    "    parallel_time.append(t)"
   ]
  },
  {
   "cell_type": "code",
   "execution_count": 8,
   "metadata": {},
   "outputs": [
    {
     "name": "stdout",
     "output_type": "stream",
     "text": [
      "CPU times: user 31.4 s, sys: 1.06 s, total: 32.5 s\n",
      "Wall time: 6.07 s\n"
     ]
    }
   ],
   "source": []
  },
  {
   "cell_type": "code",
   "execution_count": 10,
   "metadata": {},
   "outputs": [
    {
     "name": "stdout",
     "output_type": "stream",
     "text": [
      "CPU times: user 35.2 ms, sys: 88.2 ms, total: 123 ms\n",
      "Wall time: 5.28 s\n"
     ]
    }
   ],
   "source": [
    "%time testC = toPointsParallel(test)"
   ]
  },
  {
   "cell_type": "markdown",
   "metadata": {},
   "source": [
    "Randomization function:"
   ]
  },
  {
   "cell_type": "code",
   "execution_count": null,
   "metadata": {},
   "outputs": [],
   "source": [
    "def randomize(points, expansion = 1.0):\n",
    "    seed = np.random.rand(numpoints,2)\n",
    "    seed = seed * expansion\n",
    "    return points + seed"
   ]
  }
 ],
 "metadata": {
  "kernelspec": {
   "display_name": "Python 3",
   "language": "python",
   "name": "python3"
  },
  "language_info": {
   "codemirror_mode": {
    "name": "ipython",
    "version": 3
   },
   "file_extension": ".py",
   "mimetype": "text/x-python",
   "name": "python",
   "nbconvert_exporter": "python",
   "pygments_lexer": "ipython3",
   "version": "3.6.6"
  }
 },
 "nbformat": 4,
 "nbformat_minor": 2
}
